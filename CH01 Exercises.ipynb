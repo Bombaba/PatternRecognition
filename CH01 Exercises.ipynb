{
 "cells": [
  {
   "cell_type": "markdown",
   "metadata": {},
   "source": [
    "# 1.1"
   ]
  },
  {
   "cell_type": "markdown",
   "metadata": {},
   "source": [
    "Consider the sum-of-squares error function given by (1.2) in which the function $y(x, \\mathbf{w})$ is given by the polynomial (1.1).  Show that the coefficients $\\mathbf{w} = \\{w_i\\}$ that minimize this error function are given by the solution to the following set of linear equations\n",
    "\n",
    "$$\n",
    "\\displaystyle\\sum_{j=0}^{M}A_{ij}w_j = T_i    \\tag{1.122}\n",
    "$$\n",
    "\n",
    "where\n",
    "\n",
    "$$\n",
    "A_{ij} = \\displaystyle\\sum_{n=I}^{N}(x_n)^{i+j}, \\qquad T_i = \\displaystyle\\sum_{n=1}^{N}(x_n)^i t_n  \\tag{1.123}\n",
    "$$\n",
    "\n",
    "Here a suffix $i$ or $j$ denotes the index of a component, whereas $(x)^i$ denotes $x$ raised to the power of $i$."
   ]
  },
  {
   "cell_type": "markdown",
   "metadata": {},
   "source": [
    "Given"
   ]
  },
  {
   "cell_type": "markdown",
   "metadata": {},
   "source": [
    "\\begin{equation}\n",
    "  y(x, \\mathbf{x}) = w_0 + w_1 x + w_2 x^2 + \\dots + w_Mx^M = \\displaystyle\\sum_{j=0}^M w_i x^j    \\tag{1.1}\n",
    "\\end{equation}\n",
    "\\begin{equation}\n",
    "  E(\\mathbf{w}) = \\frac{1}{2}\\displaystyle\\sum_{n=1}^{N}\\left\\{y(x_n, \\mathbf{w}) - t_n\\right\\} ^2    \\tag{1.2}\n",
    "\\end{equation}"
   ]
  },
  {
   "cell_type": "markdown",
   "metadata": {},
   "source": [
    "then"
   ]
  },
  {
   "cell_type": "markdown",
   "metadata": {},
   "source": [
    "\\begin{equation}\n",
    "\\begin{split}\n",
    "\\frac{\\partial E}{\\partial w_i}\n",
    "&= \\displaystyle\\sum_{n=1}^{N}\\left\\{y(x_n, \\mathbf{w}) - t_n\\right\\}\\frac{\\partial y}{\\partial w_i} \\\\\n",
    "&= \\displaystyle\\sum_{n=1}^{N}\\left\\{y(x_n, \\mathbf{w}) - t_n\\right\\}\\left(x_n\\right)^i \\\\\n",
    "&= \\displaystyle\\sum_{n=1}^{N}\\displaystyle\\sum_{j=0}^{M}\\left(x_n\\right)^{i+j}w_j - \\displaystyle\\sum_{n=1}^{N}\\left(x_n\\right)^{i}t_n \\\\\n",
    "&= \\displaystyle\\sum_{j=0}^{M}A_{ij}w_i - T_i\n",
    "\\end{split}\n",
    "\\end{equation}"
   ]
  },
  {
   "cell_type": "markdown",
   "metadata": {},
   "source": [
    "Since the error function is a quadratic function according to $\\mathbf{w}$, the $\\mathbf{w^\\ast}$ which minimizes the error function satisfies"
   ]
  },
  {
   "cell_type": "markdown",
   "metadata": {},
   "source": [
    "\\begin{equation}\n",
    "\\frac{\\partial E}{\\partial w_i} = 0\n",
    "\\implies\n",
    "\\displaystyle\\sum_{j=0}^{M}A_{ij}w_i = T_i\n",
    "\\end{equation}"
   ]
  },
  {
   "cell_type": "code",
   "execution_count": null,
   "metadata": {},
   "outputs": [],
   "source": []
  }
 ],
 "metadata": {
  "hide_input": false,
  "kernelspec": {
   "display_name": "Python 3",
   "language": "python",
   "name": "python3"
  },
  "language_info": {
   "codemirror_mode": {
    "name": "ipython",
    "version": 3
   },
   "file_extension": ".py",
   "mimetype": "text/x-python",
   "name": "python",
   "nbconvert_exporter": "python",
   "pygments_lexer": "ipython3",
   "version": "3.6.4"
  },
  "toc": {
   "colors": {
    "hover_highlight": "#DAA520",
    "navigate_num": "#000000",
    "navigate_text": "#333333",
    "running_highlight": "#FF0000",
    "selected_highlight": "#FFD700",
    "sidebar_border": "#EEEEEE",
    "wrapper_background": "#FFFFFF"
   },
   "moveMenuLeft": true,
   "nav_menu": {
    "height": "30px",
    "width": "252px"
   },
   "navigate_menu": true,
   "number_sections": true,
   "sideBar": true,
   "threshold": 4,
   "toc_cell": false,
   "toc_section_display": "block",
   "toc_window_display": false,
   "widenNotebook": false
  }
 },
 "nbformat": 4,
 "nbformat_minor": 2
}
